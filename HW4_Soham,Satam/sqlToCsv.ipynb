{
 "cells": [
  {
   "cell_type": "code",
   "execution_count": 1,
   "metadata": {},
   "outputs": [],
   "source": [
    "import contextlib\n",
    "import csv\n",
    "import datetime\n",
    "import os\n",
    "import pymysql\n",
    "\n",
    "TRANSACTION_SQL_QUERY = \"\"\"\n",
    "SELECT * FROM transactions;\n",
    "\"\"\"\n",
    "\n",
    "connection = pymysql.connect(host='localhost',\n",
    "                             user='root',\n",
    "                             password='3306',\n",
    "                             db='bestdealsql')\n",
    "\n",
    "\n",
    "with contextlib.closing(connection):\n",
    "    with connection.cursor() as cursor:\n",
    "        cursor.execute(TRANSACTION_SQL_QUERY)\n",
    "        transactions_result = cursor.fetchall()\n",
    "        \n",
    "\n",
    "transactions_output_file = 'C://MS//Fall2020//EWA//HW4Backups//transactions.csv'\n",
    "with open(transactions_output_file, 'w', newline='') as csvfile:\n",
    "    csv_writer = csv.writer(csvfile, lineterminator='\\n')\n",
    "    csv_writer.writerow(['loginID','Customer_Name','Customer_Age','Customer_Occupation','Credit_Card_Number','Order_ID','Order_Date','Expected_Delivery_Date','Actual_Delivery_Date','Product_ID','Product_Name','Category','Manufacturer','Review_Rating','Delivery_Tracking_ID','Delivery_Type','Delivery_Zip_Code','Transaction_Status','Order_Returned','Order_Delivered_on_Time'])\n",
    "    csv_writer.writerows(transactions_result)"
   ]
  },
  {
   "cell_type": "code",
   "execution_count": null,
   "metadata": {},
   "outputs": [],
   "source": []
  }
 ],
 "metadata": {
  "kernelspec": {
   "display_name": "Python 3",
   "language": "python",
   "name": "python3"
  },
  "language_info": {
   "codemirror_mode": {
    "name": "ipython",
    "version": 3
   },
   "file_extension": ".py",
   "mimetype": "text/x-python",
   "name": "python",
   "nbconvert_exporter": "python",
   "pygments_lexer": "ipython3",
   "version": "3.7.4"
  }
 },
 "nbformat": 4,
 "nbformat_minor": 2
}
